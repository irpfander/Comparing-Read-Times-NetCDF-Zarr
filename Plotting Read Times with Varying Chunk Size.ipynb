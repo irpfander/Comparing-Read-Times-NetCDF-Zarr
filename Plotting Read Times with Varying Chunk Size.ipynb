{
 "cells": [
  {
   "cell_type": "markdown",
   "id": "a2df5d1a",
   "metadata": {},
   "source": [
    "# Comparing Single Value Read Times with Chunking Across Lat/Lon"
   ]
  },
  {
   "cell_type": "markdown",
   "id": "9394189f",
   "metadata": {},
   "source": [
    "This notebook compares reading times of Zarr and netCDF-4 data formats. The data used in this example is publicly avaliable from Unidata [example files](https://www.unidata.ucar.edu/software/netcdf/examples/files.html). The file is from the Community Climate System Model (CCSM) with one time step of precipitation flux, air temperature, and eastward wind. The data was converted from netCDF-3 to Zarr using [this repository](https://github.com/jonahjoughin/netcdf-to-zarr). \n",
    "\n",
    "The following chunk sizes applied to lat/lon were compared in this example:\n",
    "* 128 x 256 (original)\n",
    "* 64 x 64\n",
    "* 16 x 16\n",
    "* 4 x 4\n",
    "\n",
    "Run times are recorded in seconds using `timeit` with the average taken of 100 excecutions."
   ]
  },
  {
   "cell_type": "markdown",
   "id": "473c1108",
   "metadata": {},
   "source": [
    "## Chunking netCDF with nccopy utility"
   ]
  },
  {
   "cell_type": "markdown",
   "id": "5bc4a879",
   "metadata": {},
   "source": [
    "The netCDF-4 files were created from the original example file using Unidata's [nccopy utility](https://www.unidata.ucar.edu/software/netcdf/workshops/2011/utilities/Nccopy.html). Chunking dimensions were specified with the `-c chunkspec` option."
   ]
  },
  {
   "cell_type": "markdown",
   "id": "39d07e73",
   "metadata": {},
   "source": [
    "## Chunking Zarr directory store with Rechunker"
   ]
  },
  {
   "cell_type": "markdown",
   "id": "3cdeeeee",
   "metadata": {},
   "source": [
    "The following code is an example of rechunking the Zarr directory store by lat/lon."
   ]
  },
  {
   "cell_type": "code",
   "execution_count": 2,
   "id": "4c26e3b4",
   "metadata": {},
   "outputs": [
    {
     "data": {
      "text/html": [
       "<h2>Rechunked</h2>\n",
       "        <details>\n",
       "          <summary><b>Source</b></summary>\n",
       "          <p><code>&lt;zarr.hierarchy.Group &#x27;/&#x27;&gt;</code></p>\n",
       "        </details>\n",
       "        <details>\n",
       "<summary><b>Intermediate</b></summary>\n",
       "<p><code>&lt;zarr.hierarchy.Group &#x27;/&#x27;&gt;</code></p>\n",
       "</details>\n",
       "\n",
       "        <details>\n",
       "          <summary><b>Target</b></summary>\n",
       "          <p><code>&lt;zarr.hierarchy.Group &#x27;/&#x27;&gt;</code></p>\n",
       "        </details>\n"
      ],
      "text/plain": [
       "<Rechunked>\n",
       "* Source      : <zarr.hierarchy.Group '/'>\n",
       "\n",
       "* Intermediate: <zarr.hierarchy.Group '/'>\n",
       "\n",
       "* Target      : <zarr.hierarchy.Group '/'>"
      ]
     },
     "execution_count": 2,
     "metadata": {},
     "output_type": "execute_result"
    }
   ],
   "source": [
    "import zarr\n",
    "from rechunker import rechunk\n",
    "source = zarr.open('Data/ccsm3_store.zarr')\n",
    "intermediate = \"Data/intermediate.zarr\"\n",
    "target_store = \"Data/ccsm3_store_64C.zarr\"\n",
    "max_mem = '3MB'\n",
    "\n",
    "target_chunks = {\n",
    "    'area': {'time': 1, 'lat': 64, 'lon': 64},\n",
    "    'lat': { 'lat': 64},\n",
    "    'lat_bnds': {'lat': 64, 'bnds': 2},\n",
    "    'lon': {'lon': 64},\n",
    "    'lon_bnds': {'lon': 64, 'bnds': 2},\n",
    "    'msk_rgn': {'lat': 64, 'lon': 64},\n",
    "    'plev': {'plev': 17},\n",
    "    'pr': {'time': 1, 'lat': 64, 'lon': 64},\n",
    "    'tas': {'time': 1, 'lat': 64, 'lon': 64},\n",
    "    'time': {'time': 1},\n",
    "    'time_bnds': {'time': 1, 'bnds': 2},\n",
    "    'ua': {'time': 1,'plev' : 17, 'lat': 64, 'lon': 64},\n",
    "}\n",
    "\n",
    "!rm -rf air_rechunked.zarr air_rechunked-tmp.zarr\n",
    "rechunked = rechunk(source, target_chunks, max_mem, target_store, temp_store=intermediate)\n",
    "rechunked"
   ]
  },
  {
   "cell_type": "code",
   "execution_count": 37,
   "id": "322fd099",
   "metadata": {
    "scrolled": true
   },
   "outputs": [
    {
     "name": "stdout",
     "output_type": "stream",
     "text": [
      "_copy_chunk((slice(0, 1, None),))\n",
      "_copy_chunk((slice(0, 1, None),))\n",
      "_copy_chunk((slice(0, 128, None), slice(0, 2, None)))\n",
      "_copy_chunk((slice(0, 1, None), slice(0, 128, None), slice(0, 256, None)))\n",
      "_copy_chunk((slice(0, 256, None), slice(0, 2, None)))\n",
      "_copy_chunk((slice(0, 256, None),))\n",
      "_copy_chunk((slice(0, 1, None), slice(0, 17, None), slice(0, 128, None), slice(0, 256, None)))\n",
      "_copy_chunk((slice(0, 1, None), slice(0, 128, None), slice(0, 256, None)))\n",
      "_copy_chunk((slice(0, 128, None), slice(0, 256, None)))\n",
      "_copy_chunk((slice(0, 128, None), slice(0, 256, None)))\n",
      "_copy_chunk((slice(0, 17, None),))\n",
      "_copy_chunk((slice(0, 128, None),))\n",
      "_copy_chunk((slice(0, 1, None), slice(0, 2, None)))\n"
     ]
    },
    {
     "data": {
      "text/plain": [
       "<zarr.hierarchy.Group '/'>"
      ]
     },
     "execution_count": 37,
     "metadata": {},
     "output_type": "execute_result"
    }
   ],
   "source": [
    "rechunked.execute()"
   ]
  },
  {
   "cell_type": "markdown",
   "id": "ce67aeda",
   "metadata": {},
   "source": [
    "## Reading netCDF-4"
   ]
  },
  {
   "cell_type": "markdown",
   "id": "db9c3805",
   "metadata": {},
   "source": [
    "### Chunksize 128x256 (one chunk per array)"
   ]
  },
  {
   "cell_type": "code",
   "execution_count": 2,
   "id": "7b834c23",
   "metadata": {},
   "outputs": [
    {
     "name": "stdout",
     "output_type": "stream",
     "text": [
      "0.018586140200000045\n",
      "0.016466350169999942\n"
     ]
    }
   ],
   "source": [
    "import timeit \n",
    "  \n",
    "# import before timing begins \n",
    "imports = \"import netCDF4 as nc\"\n",
    "  \n",
    "# reading code to be timed\n",
    "nc4_110_single_values = ''' \n",
    "\n",
    "# netCDF-4 with zlib compression \n",
    "dataset = nc.Dataset('Data/ccsm3_netcdf-4.nc')\n",
    "\n",
    "# reading single values\n",
    "tas = dataset.variables['tas'][0][0][0] # air temperature\n",
    "plev = dataset.variables['plev'][0] # air pressure\n",
    "pr = dataset.variables['pr'][0][0][0] # precipitation flux\n",
    "ua = dataset.variables['ua'][0][0][0][0] # eastward wind with 17 levels of plev\n",
    "lons = dataset.variables['lon'][0]\n",
    "lat = dataset.variables['lat'][0]\n",
    "\n",
    "dataset.close() \n",
    "'''\n",
    "    \n",
    "nc4_110_full_vars = ''' \n",
    "# netCDF-4 with zlib compression \n",
    "dataset = nc.Dataset('Data/ccsm3_netcdf-4.nc')\n",
    "\n",
    "# reading full variables\n",
    "tas = dataset.variables['tas'][:] # air temperature\n",
    "plev = dataset.variables['plev'][:] # air pressure\n",
    "pr = dataset.variables['pr'][:] # precipitation flux\n",
    "ua = dataset.variables['ua'][:] # eastward wind with 17 levels of plev\n",
    "lons = dataset.variables['lon'][:]\n",
    "lat = dataset.variables['lat'][:]\n",
    "\n",
    "dataset.close() \n",
    "'''\n",
    "\n",
    "# timeit statement in seconds average of 1000\n",
    "nc4_110_single_values_time = (timeit.timeit(setup = imports,\n",
    "                     stmt = nc4_110_single_values,\n",
    "                     number = 100)) / 100\n",
    "\n",
    "nc4_110_full_vars_time = (timeit.timeit(setup = imports,\n",
    "                     stmt = nc4_110_full_vars,\n",
    "                     number = 100)) / 100\n",
    "\n",
    "print(nc4_110_single_values_time)\n",
    "print(nc4_110_full_vars_time)"
   ]
  },
  {
   "cell_type": "markdown",
   "id": "d70000e3",
   "metadata": {},
   "source": [
    "### Chunk size 4x4"
   ]
  },
  {
   "cell_type": "code",
   "execution_count": 3,
   "id": "7196d308",
   "metadata": {},
   "outputs": [
    {
     "name": "stdout",
     "output_type": "stream",
     "text": [
      "0.09448854939000001\n",
      "0.09661862448999983\n"
     ]
    }
   ],
   "source": [
    "import timeit \n",
    "  \n",
    "# import before timing begins \n",
    "imports = \"import netCDF4 as nc\"\n",
    "  \n",
    "# reading code to be timed\n",
    "nc4_110_4C_single_values = ''' \n",
    "\n",
    "# netCDF-4 with zlib compression \n",
    "dataset = nc.Dataset('Data/ccsm3_netcdf-4-110-4C.nc')\n",
    "\n",
    "# reading single values\n",
    "tas = dataset.variables['tas'][0][0][0] # air temperature\n",
    "plev = dataset.variables['plev'][0] # air pressure\n",
    "pr = dataset.variables['pr'][0][0][0] # precipitation flux\n",
    "ua = dataset.variables['ua'][0][0][0][0] # eastward wind with 17 levels of plev\n",
    "lons = dataset.variables['lon'][0]\n",
    "lat = dataset.variables['lat'][0]\n",
    "\n",
    "dataset.close() \n",
    "'''\n",
    "    \n",
    "nc4_110_4C_full_vars = ''' \n",
    "# netCDF-4 with zlib compression \n",
    "dataset = nc.Dataset('Data/ccsm3_netcdf-4-110-4C.nc')\n",
    "\n",
    "# reading full variables\n",
    "tas = dataset.variables['tas'][:] # air temperature\n",
    "plev = dataset.variables['plev'][:] # air pressure\n",
    "pr = dataset.variables['pr'][:] # precipitation flux\n",
    "ua = dataset.variables['ua'][:] # eastward wind with 17 levels of plev\n",
    "lons = dataset.variables['lon'][:]\n",
    "lat = dataset.variables['lat'][:]\n",
    "\n",
    "dataset.close() \n",
    "'''\n",
    "\n",
    "# timeit statement in seconds average of 1000\n",
    "nc4_110_4C_single_values_time = (timeit.timeit(setup = imports,\n",
    "                     stmt = nc4_110_4C_single_values,\n",
    "                     number = 100)) / 100\n",
    "\n",
    "nc4_110_4C_full_vars_time = (timeit.timeit(setup = imports,\n",
    "                     stmt = nc4_110_4C_full_vars,\n",
    "                     number = 100)) / 100\n",
    "\n",
    "print(nc4_110_4C_single_values_time)\n",
    "print(nc4_110_4C_full_vars_time)"
   ]
  },
  {
   "cell_type": "markdown",
   "id": "0d3b70b5",
   "metadata": {},
   "source": [
    "### Chunk size 16x16"
   ]
  },
  {
   "cell_type": "code",
   "execution_count": 4,
   "id": "d012a42b",
   "metadata": {},
   "outputs": [
    {
     "name": "stdout",
     "output_type": "stream",
     "text": [
      "0.022122890059999917\n",
      "0.02229471568000008\n"
     ]
    }
   ],
   "source": [
    "import timeit \n",
    "  \n",
    "# import before timing begins \n",
    "imports = \"import netCDF4 as nc\"\n",
    "  \n",
    "# reading code to be timed\n",
    "nc4_110_16C_single_values = ''' \n",
    "\n",
    "# netCDF-4 with zlib compression \n",
    "dataset = nc.Dataset('Data/ccsm3_netcdf-4-110-16C.nc')\n",
    "\n",
    "# reading single values\n",
    "tas = dataset.variables['tas'][0][0][0] # air temperature\n",
    "plev = dataset.variables['plev'][0] # air pressure\n",
    "pr = dataset.variables['pr'][0][0][0] # precipitation flux\n",
    "ua = dataset.variables['ua'][0][0][0][0] # eastward wind with 17 levels of plev\n",
    "lons = dataset.variables['lon'][0]\n",
    "lat = dataset.variables['lat'][0]\n",
    "\n",
    "dataset.close() \n",
    "'''\n",
    "    \n",
    "nc4_110_16C_full_vars = ''' \n",
    "# netCDF-4 with zlib compression \n",
    "dataset = nc.Dataset('Data/ccsm3_netcdf-4-110-16C.nc')\n",
    "\n",
    "# reading full variables\n",
    "tas = dataset.variables['tas'][:] # air temperature\n",
    "plev = dataset.variables['plev'][:] # air pressure\n",
    "pr = dataset.variables['pr'][:] # precipitation flux\n",
    "ua = dataset.variables['ua'][:] # eastward wind with 17 levels of plev\n",
    "lons = dataset.variables['lon'][:]\n",
    "lat = dataset.variables['lat'][:]\n",
    "\n",
    "dataset.close() \n",
    "'''\n",
    "\n",
    "# timeit statement in seconds average of 1000\n",
    "nc4_110_16C_single_values_time = (timeit.timeit(setup = imports,\n",
    "                     stmt = nc4_110_16C_single_values,\n",
    "                     number = 100)) / 100\n",
    "\n",
    "nc4_110_16C_full_vars_time = (timeit.timeit(setup = imports,\n",
    "                     stmt = nc4_110_16C_full_vars,\n",
    "                     number = 100)) / 100\n",
    "\n",
    "print(nc4_110_16C_single_values_time)\n",
    "print(nc4_110_16C_full_vars_time)"
   ]
  },
  {
   "cell_type": "markdown",
   "id": "e38b693b",
   "metadata": {},
   "source": [
    "### Chunk size 64x64"
   ]
  },
  {
   "cell_type": "code",
   "execution_count": 5,
   "id": "46efdf23",
   "metadata": {},
   "outputs": [
    {
     "name": "stdout",
     "output_type": "stream",
     "text": [
      "0.017375903979999805\n",
      "0.018233618309999998\n"
     ]
    }
   ],
   "source": [
    "import timeit \n",
    "  \n",
    "# import before timing begins \n",
    "imports = \"import netCDF4 as nc\"\n",
    "  \n",
    "# reading code to be timed\n",
    "nc4_110_64C_single_values = ''' \n",
    "\n",
    "# netCDF-4 with zlib compression \n",
    "dataset = nc.Dataset('Data/ccsm3_netcdf-4-110-64C.nc')\n",
    "\n",
    "# reading single values\n",
    "tas = dataset.variables['tas'][0][0][0] # air temperature\n",
    "plev = dataset.variables['plev'][0] # air pressure\n",
    "pr = dataset.variables['pr'][0][0][0] # precipitation flux\n",
    "ua = dataset.variables['ua'][0][0][0][0] # eastward wind with 17 levels of plev\n",
    "lons = dataset.variables['lon'][0]\n",
    "lat = dataset.variables['lat'][0]\n",
    "\n",
    "dataset.close() \n",
    "'''\n",
    "    \n",
    "nc4_110_64C_full_vars = ''' \n",
    "# netCDF-4 with zlib compression \n",
    "dataset = nc.Dataset('Data/ccsm3_netcdf-4-110-64C.nc')\n",
    "\n",
    "# reading full variables\n",
    "tas = dataset.variables['tas'][:] # air temperature\n",
    "plev = dataset.variables['plev'][:] # air pressure\n",
    "pr = dataset.variables['pr'][:] # precipitation flux\n",
    "ua = dataset.variables['ua'][:] # eastward wind with 17 levels of plev\n",
    "lons = dataset.variables['lon'][:]\n",
    "lat = dataset.variables['lat'][:]\n",
    "\n",
    "dataset.close() \n",
    "'''\n",
    "\n",
    "# timeit statement in seconds average of 1000\n",
    "nc4_110_64C_single_values_time = (timeit.timeit(setup = imports,\n",
    "                     stmt = nc4_110_64C_single_values,\n",
    "                     number = 100)) / 100\n",
    "\n",
    "nc4_110_64C_full_vars_time = (timeit.timeit(setup = imports,\n",
    "                     stmt = nc4_110_64C_full_vars,\n",
    "                     number = 100)) / 100\n",
    "\n",
    "print(nc4_110_64C_single_values_time)\n",
    "print(nc4_110_64C_full_vars_time)"
   ]
  },
  {
   "cell_type": "markdown",
   "id": "03df13ba",
   "metadata": {},
   "source": [
    "## Reading netCDF with Xarray"
   ]
  },
  {
   "cell_type": "markdown",
   "id": "63f18ad0",
   "metadata": {},
   "source": [
    "Xarray is lazy by default. Specify with `load()` to load the files."
   ]
  },
  {
   "cell_type": "markdown",
   "id": "7ec7f39e",
   "metadata": {},
   "source": [
    "### Chunksize 128x256 (one chunk per array)"
   ]
  },
  {
   "cell_type": "code",
   "execution_count": 13,
   "id": "d61b2fea",
   "metadata": {},
   "outputs": [
    {
     "name": "stdout",
     "output_type": "stream",
     "text": [
      "0.014185928079999712\n",
      "0.013130743020000182\n"
     ]
    }
   ],
   "source": [
    "import timeit \n",
    "\n",
    "  \n",
    "# import before timing begins \n",
    "imports = '''\n",
    "import xarray as xr\n",
    "'''\n",
    "  \n",
    "# reading code to be timed\n",
    "nc4_Xr_110_single_values = ''' \n",
    "\n",
    "# netCDF-4 with zlib compression \n",
    "dataset = xr.open_dataset('Data/ccsm3_netcdf-4.nc')\n",
    "\n",
    "# reading single values\n",
    "tas = dataset.variables['tas'][0][0][0] # air temperature\n",
    "plev = dataset.variables['plev'][0] # air pressure\n",
    "pr = dataset.variables['pr'][0][0][0] # precipitation flux\n",
    "ua = dataset.variables['ua'][0][0][0][0] # eastward wind with 17 levels of plev\n",
    "lons = dataset.variables['lon'][0]\n",
    "lat = dataset.variables['lat'][0]\n",
    "\n",
    "dataset.close() \n",
    "'''\n",
    "    \n",
    "nc4_Xr_110_full_vars = ''' \n",
    "# netCDF-4 with zlib compression \n",
    "dataset = xr.open_dataset('Data/ccsm3_netcdf-4.nc')\n",
    "\n",
    "# reading full variables\n",
    "tas = dataset.variables['tas'][:] # air temperature\n",
    "plev = dataset.variables['plev'][:] # air pressure\n",
    "pr = dataset.variables['pr'][:] # precipitation flux\n",
    "ua = dataset.variables['ua'][:] # eastward wind with 17 levels of plev\n",
    "lons = dataset.variables['lon'][:]\n",
    "lat = dataset.variables['lat'][:]\n",
    "\n",
    "dataset.close() \n",
    "'''\n",
    "\n",
    "# timeit statement in seconds average of 1000\n",
    "nc4_Xr_110_single_values_time = (timeit.timeit(setup = imports,\n",
    "                     stmt = nc4_Xr_110_single_values,\n",
    "                     number = 100)) / 100\n",
    "\n",
    "nc4_Xr_110_full_vars_time = (timeit.timeit(setup = imports,\n",
    "                     stmt = nc4_Xr_110_full_vars,\n",
    "                     number = 100)) / 100\n",
    "\n",
    "print(nc4_Xr_110_single_values_time)\n",
    "print(nc4_Xr_110_full_vars_time)"
   ]
  },
  {
   "cell_type": "markdown",
   "id": "6cdfacda",
   "metadata": {},
   "source": [
    "### Chunk size 4x4"
   ]
  },
  {
   "cell_type": "code",
   "execution_count": 14,
   "id": "97b115d9",
   "metadata": {},
   "outputs": [
    {
     "name": "stdout",
     "output_type": "stream",
     "text": [
      "0.0164928175\n",
      "0.014253577570000288\n"
     ]
    }
   ],
   "source": [
    "import timeit \n",
    "  \n",
    "# import before timing begins \n",
    "imports = \"import xarray as xr\"\n",
    "  \n",
    "# reading code to be timed\n",
    "nc4_Xr_110_4C_single_values = ''' \n",
    "\n",
    "# netCDF-4 with zlib compression \n",
    "dataset = xr.open_dataset('Data/ccsm3_netcdf-4-110-4C.nc')\n",
    "\n",
    "# reading single values\n",
    "tas = dataset.variables['tas'][0][0][0] # air temperature\n",
    "plev = dataset.variables['plev'][0] # air pressure\n",
    "pr = dataset.variables['pr'][0][0][0] # precipitation flux\n",
    "ua = dataset.variables['ua'][0][0][0][0] # eastward wind with 17 levels of plev\n",
    "lons = dataset.variables['lon'][0]\n",
    "lat = dataset.variables['lat'][0]\n",
    "\n",
    "dataset.close() \n",
    "'''\n",
    "    \n",
    "nc4_Xr_110_4C_full_vars = ''' \n",
    "# netCDF-4 with zlib compression \n",
    "dataset = xr.open_dataset('Data/ccsm3_netcdf-4-110-4C.nc')\n",
    "\n",
    "# reading full variables\n",
    "tas = dataset.variables['tas'][:] # air temperature\n",
    "plev = dataset.variables['plev'][:] # air pressure\n",
    "pr = dataset.variables['pr'][:] # precipitation flux\n",
    "ua = dataset.variables['ua'][:] # eastward wind with 17 levels of plev\n",
    "lons = dataset.variables['lon'][:]\n",
    "lat = dataset.variables['lat'][:]\n",
    "\n",
    "dataset.close() \n",
    "'''\n",
    "\n",
    "# timeit statement in seconds average of 1000\n",
    "nc4_Xr_110_4C_single_values_time = (timeit.timeit(setup = imports,\n",
    "                     stmt = nc4_Xr_110_4C_single_values,\n",
    "                     number = 100)) / 100\n",
    "\n",
    "nc4_Xr_110_4C_full_vars_time = (timeit.timeit(setup = imports,\n",
    "                     stmt = nc4_Xr_110_4C_full_vars,\n",
    "                     number = 100)) / 100\n",
    "\n",
    "print(nc4_Xr_110_4C_single_values_time)\n",
    "print(nc4_Xr_110_4C_full_vars_time)"
   ]
  },
  {
   "cell_type": "markdown",
   "id": "ad49be45",
   "metadata": {},
   "source": [
    "### Chunk size 16x16"
   ]
  },
  {
   "cell_type": "code",
   "execution_count": 15,
   "id": "ac369741",
   "metadata": {},
   "outputs": [
    {
     "name": "stdout",
     "output_type": "stream",
     "text": [
      "0.014582645079999566\n",
      "0.013452037529999643\n"
     ]
    }
   ],
   "source": [
    "import timeit \n",
    "  \n",
    "# import before timing begins \n",
    "imports = \"import xarray as xr\"\n",
    "  \n",
    "# reading code to be timed\n",
    "nc4_Xr_110_16C_single_values = ''' \n",
    "\n",
    "# netCDF-4 with zlib compression \n",
    "dataset = xr.open_dataset('Data/ccsm3_netcdf-4-110-16C.nc')\n",
    "\n",
    "# reading single values\n",
    "tas = dataset.variables['tas'][0][0][0] # air temperature\n",
    "plev = dataset.variables['plev'][0] # air pressure\n",
    "pr = dataset.variables['pr'][0][0][0] # precipitation flux\n",
    "ua = dataset.variables['ua'][0][0][0][0] # eastward wind with 17 levels of plev\n",
    "lons = dataset.variables['lon'][0]\n",
    "lat = dataset.variables['lat'][0]\n",
    "\n",
    "dataset.close() \n",
    "'''\n",
    "    \n",
    "nc4_Xr_110_16C_full_vars = ''' \n",
    "# netCDF-4 with zlib compression \n",
    "dataset = xr.open_dataset('Data/ccsm3_netcdf-4-110-16C.nc')\n",
    "\n",
    "# reading full variables\n",
    "tas = dataset.variables['tas'][:] # air temperature\n",
    "plev = dataset.variables['plev'][:] # air pressure\n",
    "pr = dataset.variables['pr'][:] # precipitation flux\n",
    "ua = dataset.variables['ua'][:] # eastward wind with 17 levels of plev\n",
    "lons = dataset.variables['lon'][:]\n",
    "lat = dataset.variables['lat'][:]\n",
    "\n",
    "dataset.close() \n",
    "'''\n",
    "\n",
    "# timeit statement in seconds average of 1000\n",
    "nc4_Xr_110_16C_single_values_time = (timeit.timeit(setup = imports,\n",
    "                     stmt = nc4_Xr_110_16C_single_values,\n",
    "                     number = 100)) / 100\n",
    "\n",
    "nc4_Xr_110_16C_full_vars_time = (timeit.timeit(setup = imports,\n",
    "                     stmt = nc4_Xr_110_16C_full_vars,\n",
    "                     number = 100)) / 100\n",
    "\n",
    "print(nc4_Xr_110_16C_single_values_time)\n",
    "print(nc4_Xr_110_16C_full_vars_time)"
   ]
  },
  {
   "cell_type": "markdown",
   "id": "2bce5ba4",
   "metadata": {},
   "source": [
    "### Chunk size 64x64"
   ]
  },
  {
   "cell_type": "code",
   "execution_count": 16,
   "id": "9eb31621",
   "metadata": {},
   "outputs": [
    {
     "name": "stdout",
     "output_type": "stream",
     "text": [
      "0.014758216609999408\n",
      "0.013819737860000032\n"
     ]
    }
   ],
   "source": [
    "import timeit \n",
    "  \n",
    "# import before timing begins \n",
    "imports = \"import xarray as xr\"\n",
    "  \n",
    "# reading code to be timed\n",
    "nc4_Xr_110_64C_single_values = ''' \n",
    "\n",
    "# netCDF-4 with zlib compression \n",
    "dataset = xr.open_dataset('Data/ccsm3_netcdf-4-110-64C.nc')\n",
    "\n",
    "# reading single values\n",
    "tas = dataset.variables['tas'][0][0][0] # air temperature\n",
    "plev = dataset.variables['plev'][0] # air pressure\n",
    "pr = dataset.variables['pr'][0][0][0] # precipitation flux\n",
    "ua = dataset.variables['ua'][0][0][0][0] # eastward wind with 17 levels of plev\n",
    "lons = dataset.variables['lon'][0]\n",
    "lat = dataset.variables['lat'][0]\n",
    "\n",
    "dataset.close() \n",
    "'''\n",
    "    \n",
    "nc4_Xr_110_64C_full_vars = ''' \n",
    "# netCDF-4 with zlib compression \n",
    "dataset = xr.open_dataset('Data/ccsm3_netcdf-4-110-64C.nc')\n",
    "\n",
    "# reading full variables\n",
    "tas = dataset.variables['tas'][:] # air temperature\n",
    "plev = dataset.variables['plev'][:] # air pressure\n",
    "pr = dataset.variables['pr'][:] # precipitation flux\n",
    "ua = dataset.variables['ua'][:] # eastward wind with 17 levels of plev\n",
    "lons = dataset.variables['lon'][:]\n",
    "lat = dataset.variables['lat'][:]\n",
    "\n",
    "dataset.close() \n",
    "'''\n",
    "\n",
    "# timeit statement in seconds average of 1000\n",
    "nc4_Xr_110_64C_single_values_time = (timeit.timeit(setup = imports,\n",
    "                     stmt = nc4_Xr_110_64C_single_values,\n",
    "                     number = 100)) / 100\n",
    "\n",
    "nc4_Xr_110_64C_full_vars_time = (timeit.timeit(setup = imports,\n",
    "                     stmt = nc4_Xr_110_64C_full_vars,\n",
    "                     number = 100)) / 100\n",
    "\n",
    "print(nc4_Xr_110_64C_single_values_time)\n",
    "print(nc4_Xr_110_64C_full_vars_time)"
   ]
  },
  {
   "cell_type": "markdown",
   "id": "a7f0c43d",
   "metadata": {},
   "source": [
    "## Reading Zarr directory store "
   ]
  },
  {
   "cell_type": "markdown",
   "id": "6f0ddc75",
   "metadata": {},
   "source": [
    "### Chunksize 128x256 (one chunk per array)"
   ]
  },
  {
   "cell_type": "code",
   "execution_count": 6,
   "id": "1de5f3d4",
   "metadata": {},
   "outputs": [
    {
     "name": "stdout",
     "output_type": "stream",
     "text": [
      "0.0026547762999999235\n",
      "0.0020957448999999427\n"
     ]
    }
   ],
   "source": [
    "import timeit \n",
    "  \n",
    "# import before timing begins \n",
    "imports = \"import zarr\"\n",
    "  \n",
    "# reading code to be timed\n",
    "zarr_single_values = ''' \n",
    "zarrData = zarr.open('Data/ccsm3_store.zarr', mode='r')\n",
    "\n",
    "# reading single values \n",
    "tas = zarrData['tas'][0][0][0] # air temperature\n",
    "plev = zarrData['plev'][0] # air pressure\n",
    "pr = zarrData['pr'][0][0][0] # precipitation flux\n",
    "ua = zarrData['ua'][0][0][0][0] # eastward wind with 17 levels of plev\n",
    "lon = zarrData['lon'][0]\n",
    "lat = zarrData['lat'][0]\n",
    "'''\n",
    "\n",
    "zarr_full_vars = '''  \n",
    "zarrData = zarr.open('Data/ccsm3_store.zarr', mode='r')\n",
    "\n",
    "# reading full variables\n",
    "tas = zarrData['tas'][:] # air temperature\n",
    "plev = zarrData['plev'][:] # air pressure\n",
    "pr = zarrData['pr'][:] # precipitation flux\n",
    "ua = zarrData['ua'][:] # eastward wind with 17 levels of plev\n",
    "lon = zarrData['lon'][:]\n",
    "lat = zarrData['lat'][:]\n",
    "'''\n",
    "  \n",
    "# timeit statement in seconds average of 1000\n",
    "zarr_single_values_time = (timeit.timeit(setup = imports,\n",
    "                     stmt = zarr_single_values,\n",
    "                     number = 100)) / 100\n",
    "\n",
    "zarr_full_vars_time = (timeit.timeit(setup = imports,\n",
    "                     stmt = zarr_full_vars,\n",
    "                     number = 100)) / 100\n",
    "print(zarr_single_values_time)\n",
    "print(zarr_full_vars_time)"
   ]
  },
  {
   "cell_type": "markdown",
   "id": "add7c2a7",
   "metadata": {},
   "source": [
    "### Chunksize 4x4"
   ]
  },
  {
   "cell_type": "code",
   "execution_count": 7,
   "id": "8e5133e1",
   "metadata": {},
   "outputs": [
    {
     "name": "stdout",
     "output_type": "stream",
     "text": [
      "0.45193061268999996\n",
      "0.4706771656199999\n"
     ]
    }
   ],
   "source": [
    "import timeit \n",
    "  \n",
    "# import before timing begins \n",
    "imports = \"import zarr\"\n",
    "  \n",
    "# reading code to be timed\n",
    "zarr_4C_single_values = ''' \n",
    "zarrDataC = zarr.open('Data/ccsm3_store_4C.zarr', mode='r')\n",
    "\n",
    "# reading single values \n",
    "tas = zarrDataC['tas'][0][0][0] # air temperature\n",
    "plev = zarrDataC['plev'][0] # air pressure\n",
    "pr = zarrDataC['pr'][0][0][0] # precipitation flux\n",
    "ua = zarrDataC['ua'][0][0][0][0] # eastward wind with 17 levels of plev\n",
    "lon = zarrDataC['lon'][0]\n",
    "lat = zarrDataC['lat'][0]\n",
    "'''\n",
    "\n",
    "zarr_4C_full_vars = '''  \n",
    "zarrDataC = zarr.open('Data/ccsm3_store_4C.zarr', mode='r')\n",
    "\n",
    "# reading full variables\n",
    "tas = zarrDataC['tas'][:] # air temperature\n",
    "plev = zarrDataC['plev'][:] # air pressure\n",
    "pr = zarrDataC['pr'][:] # precipitation flux\n",
    "ua = zarrDataC['ua'][:] # eastward wind with 17 levels of plev\n",
    "lon = zarrDataC['lon'][:]\n",
    "lat = zarrDataC['lat'][:]\n",
    "'''\n",
    "  \n",
    "# timeit statement in seconds average of 1000\n",
    "zarr_4C_single_values_time = (timeit.timeit(setup = imports,\n",
    "                     stmt = zarr_4C_single_values,\n",
    "                     number = 100)) / 100\n",
    "\n",
    "zarr_4C_full_vars_time = (timeit.timeit(setup = imports,\n",
    "                     stmt = zarr_4C_full_vars,\n",
    "                     number = 100)) / 100\n",
    "print(zarr_4C_single_values_time)\n",
    "print(zarr_4C_full_vars_time)"
   ]
  },
  {
   "cell_type": "markdown",
   "id": "3190c261",
   "metadata": {},
   "source": [
    "### Chunksize 16x16"
   ]
  },
  {
   "cell_type": "code",
   "execution_count": 8,
   "id": "1c122ca0",
   "metadata": {},
   "outputs": [
    {
     "name": "stdout",
     "output_type": "stream",
     "text": [
      "0.03072722055999975\n",
      "0.03277233767000041\n"
     ]
    }
   ],
   "source": [
    "import timeit \n",
    "  \n",
    "# import before timing begins \n",
    "imports = \"import zarr\"\n",
    "  \n",
    "# reading code to be timed\n",
    "zarr_16C_single_values = ''' \n",
    "zarrDataC = zarr.open('Data/ccsm3_store_16C.zarr', mode='r')\n",
    "\n",
    "# reading single values \n",
    "tas = zarrDataC['tas'][0][0][0] # air temperature\n",
    "plev = zarrDataC['plev'][0] # air pressure\n",
    "pr = zarrDataC['pr'][0][0][0] # precipitation flux\n",
    "ua = zarrDataC['ua'][0][0][0][0] # eastward wind with 17 levels of plev\n",
    "lon = zarrDataC['lon'][0]\n",
    "lat = zarrDataC['lat'][0]\n",
    "'''\n",
    "\n",
    "zarr_16C_full_vars = '''  \n",
    "zarrDataC = zarr.open('Data/ccsm3_store_16C.zarr', mode='r')\n",
    "\n",
    "# reading full variables\n",
    "tas = zarrDataC['tas'][:] # air temperature\n",
    "plev = zarrDataC['plev'][:] # air pressure\n",
    "pr = zarrDataC['pr'][:] # precipitation flux\n",
    "ua = zarrDataC['ua'][:] # eastward wind with 17 levels of plev\n",
    "lon = zarrDataC['lon'][:]\n",
    "lat = zarrDataC['lat'][:]\n",
    "'''\n",
    "  \n",
    "# timeit statement in seconds average of 1000\n",
    "zarr_16C_single_values_time = (timeit.timeit(setup = imports,\n",
    "                     stmt = zarr_16C_single_values,\n",
    "                     number = 100)) / 100\n",
    "\n",
    "zarr_16C_full_vars_time = (timeit.timeit(setup = imports,\n",
    "                     stmt = zarr_16C_full_vars,\n",
    "                     number = 100)) / 100\n",
    "print(zarr_16C_single_values_time)\n",
    "print(zarr_16C_full_vars_time)"
   ]
  },
  {
   "cell_type": "markdown",
   "id": "3e60fc9d",
   "metadata": {},
   "source": [
    "### Chunksize 64x64"
   ]
  },
  {
   "cell_type": "code",
   "execution_count": 9,
   "id": "8fe4aa40",
   "metadata": {
    "scrolled": false
   },
   "outputs": [
    {
     "name": "stdout",
     "output_type": "stream",
     "text": [
      "0.004452625950000311\n",
      "0.004990613780000217\n"
     ]
    }
   ],
   "source": [
    "import timeit \n",
    "  \n",
    "# import before timing begins \n",
    "imports = \"import zarr\"\n",
    "  \n",
    "# reading code to be timed\n",
    "zarr_64C_single_values = ''' \n",
    "zarrDataC = zarr.open('Data/ccsm3_store_64C.zarr', mode='r')\n",
    "\n",
    "# reading single values \n",
    "tas = zarrDataC['tas'][0][0][0] # air temperature\n",
    "plev = zarrDataC['plev'][0] # air pressure\n",
    "pr = zarrDataC['pr'][0][0][0] # precipitation flux\n",
    "ua = zarrDataC['ua'][0][0][0][0] # eastward wind with 17 levels of plev\n",
    "lon = zarrDataC['lon'][0]\n",
    "lat = zarrDataC['lat'][0]\n",
    "'''\n",
    "\n",
    "zarr_64C_full_vars = '''  \n",
    "zarrDataC = zarr.open('Data/ccsm3_store_64C.zarr', mode='r')\n",
    "\n",
    "# reading full variables\n",
    "tas = zarrDataC['tas'][:] # air temperature\n",
    "plev = zarrDataC['plev'][:] # air pressure\n",
    "pr = zarrDataC['pr'][:] # precipitation flux\n",
    "ua = zarrDataC['ua'][:] # eastward wind with 17 levels of plev\n",
    "lon = zarrDataC['lon'][:]\n",
    "lat = zarrDataC['lat'][:]\n",
    "'''\n",
    "  \n",
    "# timeit statement in seconds average of 1000\n",
    "zarr_64C_single_values_time = (timeit.timeit(setup = imports,\n",
    "                     stmt = zarr_64C_single_values,\n",
    "                     number = 100)) / 100\n",
    "\n",
    "zarr_64C_full_vars_time = (timeit.timeit(setup = imports,\n",
    "                     stmt = zarr_64C_full_vars,\n",
    "                     number = 100)) / 100\n",
    "print(zarr_64C_single_values_time)\n",
    "print(zarr_64C_full_vars_time)"
   ]
  },
  {
   "cell_type": "markdown",
   "id": "59e50428",
   "metadata": {},
   "source": [
    "## Reading Zarr directory store with Xarray"
   ]
  },
  {
   "cell_type": "markdown",
   "id": "f03cf7b2",
   "metadata": {},
   "source": [
    "Xarray is lazy by default. Specify with `load()` to load the files."
   ]
  },
  {
   "cell_type": "markdown",
   "id": "fceecda3",
   "metadata": {},
   "source": [
    "### Chunksize 128x256"
   ]
  },
  {
   "cell_type": "code",
   "execution_count": 17,
   "id": "43916643",
   "metadata": {},
   "outputs": [
    {
     "name": "stderr",
     "output_type": "stream",
     "text": [
      "/opt/anaconda3/lib/python3.8/site-packages/xarray/conventions.py:512: SerializationWarning: variable 'pr' has multiple fill values {0.0, 1.0000000200408773e+20}, decoding all values to NaN.\n",
      "  new_vars[k] = decode_cf_variable(\n",
      "/opt/anaconda3/lib/python3.8/site-packages/xarray/conventions.py:512: SerializationWarning: variable 'tas' has multiple fill values {0.0, 1.0000000200408773e+20}, decoding all values to NaN.\n",
      "  new_vars[k] = decode_cf_variable(\n",
      "/opt/anaconda3/lib/python3.8/site-packages/xarray/conventions.py:512: SerializationWarning: variable 'ua' has multiple fill values {0.0, 1.0000000200408773e+20}, decoding all values to NaN.\n",
      "  new_vars[k] = decode_cf_variable(\n"
     ]
    },
    {
     "name": "stdout",
     "output_type": "stream",
     "text": [
      "0.015816829710000774\n",
      "0.012626603720000275\n"
     ]
    }
   ],
   "source": [
    "import timeit \n",
    "  \n",
    "# import before timing begins \n",
    "imports = '''\n",
    "import xarray as xr\n",
    "import zarr\n",
    "'''\n",
    "  \n",
    "# reading code to be timed\n",
    "zarrXr_single_values = ''' \n",
    "zarrData = xr.open_zarr('Data/ccsm3_store.zarr')\n",
    "\n",
    "# reading single values \n",
    "tas = zarrData['tas'][0][0][0] # air temperature\n",
    "plev = zarrData['plev'][0] # air pressure\n",
    "pr = zarrData['pr'][0][0][0] # precipitation flux\n",
    "ua = zarrData['ua'][0][0][0][0] # eastward wind with 17 levels of plev\n",
    "lon = zarrData['lon'][0]\n",
    "lat = zarrData['lat'][0]\n",
    "'''\n",
    "\n",
    "zarrXr_full_vars = '''  \n",
    "zarrData = xr.open_zarr('Data/ccsm3_store.zarr')\n",
    "\n",
    "# reading full variables\n",
    "tas = zarrData['tas'][:] # air temperature\n",
    "plev = zarrData['plev'][:] # air pressure\n",
    "pr = zarrData['pr'][:] # precipitation flux\n",
    "ua = zarrData['ua'][:] # eastward wind with 17 levels of plev\n",
    "lon = zarrData['lon'][:]\n",
    "lat = zarrData['lat'][:]\n",
    "'''\n",
    "  \n",
    "# timeit statement in seconds average of 1000\n",
    "zarrXr_single_values_time = (timeit.timeit(setup = imports,\n",
    "                     stmt = zarrXr_single_values,\n",
    "                     number = 100)) / 100\n",
    "\n",
    "zarrXr_full_vars_time = (timeit.timeit(setup = imports,\n",
    "                     stmt = zarrXr_full_vars,\n",
    "                     number = 100)) / 100\n",
    "print(zarrXr_single_values_time)\n",
    "print(zarrXr_full_vars_time)"
   ]
  },
  {
   "cell_type": "markdown",
   "id": "6a8a9231",
   "metadata": {},
   "source": [
    "### Chunksize 4x4"
   ]
  },
  {
   "cell_type": "code",
   "execution_count": 18,
   "id": "4ad1afc0",
   "metadata": {},
   "outputs": [
    {
     "name": "stdout",
     "output_type": "stream",
     "text": [
      "0.027739868030000708\n",
      "0.02136590485999932\n"
     ]
    }
   ],
   "source": [
    "import timeit \n",
    "  \n",
    "# import before timing begins \n",
    "imports = '''\n",
    "import xarray as xr\n",
    "import zarr\n",
    "'''\n",
    "  \n",
    "# reading code to be timed\n",
    "zarrXr_4C_single_values = ''' \n",
    "zarrData = xr.open_zarr('Data/ccsm3_store_4C.zarr')\n",
    "\n",
    "# reading single values \n",
    "tas = zarrData['tas'][0][0][0] # air temperature\n",
    "plev = zarrData['plev'][0] # air pressure\n",
    "pr = zarrData['pr'][0][0][0] # precipitation flux\n",
    "ua = zarrData['ua'][0][0][0][0] # eastward wind with 17 levels of plev\n",
    "lon = zarrData['lon'][0]\n",
    "lat = zarrData['lat'][0]\n",
    "'''\n",
    "\n",
    "zarrXr_4C_full_vars = '''  \n",
    "zarrData = xr.open_zarr('Data/ccsm3_store_4C.zarr')\n",
    "\n",
    "# reading full variables\n",
    "tas = zarrData['tas'][:] # air temperature\n",
    "plev = zarrData['plev'][:] # air pressure\n",
    "pr = zarrData['pr'][:] # precipitation flux\n",
    "ua = zarrData['ua'][:] # eastward wind with 17 levels of plev\n",
    "lon = zarrData['lon'][:]\n",
    "lat = zarrData['lat'][:]\n",
    "'''\n",
    "  \n",
    "# timeit statement in seconds average of 1000\n",
    "zarrXr_4C_single_values_time = (timeit.timeit(setup = imports,\n",
    "                     stmt = zarrXr_4C_single_values,\n",
    "                     number = 100)) / 100\n",
    "\n",
    "zarrXr_4C_full_vars_time = (timeit.timeit(setup = imports,\n",
    "                     stmt = zarrXr_4C_full_vars,\n",
    "                     number = 100)) / 100\n",
    "print(zarrXr_4C_single_values_time)\n",
    "print(zarrXr_4C_full_vars_time)"
   ]
  },
  {
   "cell_type": "markdown",
   "id": "43433a1e",
   "metadata": {},
   "source": [
    "### Chunksize 16x16"
   ]
  },
  {
   "cell_type": "code",
   "execution_count": 19,
   "id": "15964a51",
   "metadata": {},
   "outputs": [
    {
     "name": "stdout",
     "output_type": "stream",
     "text": [
      "0.016657541509999874\n",
      "0.012728503189999857\n"
     ]
    }
   ],
   "source": [
    "import timeit \n",
    "  \n",
    "# import before timing begins \n",
    "imports = '''\n",
    "import xarray as xr\n",
    "import zarr\n",
    "'''\n",
    "  \n",
    "# reading code to be timed\n",
    "zarrXr_16C_single_values = ''' \n",
    "zarrData = xr.open_zarr('Data/ccsm3_store_16C.zarr')\n",
    "\n",
    "# reading single values \n",
    "tas = zarrData['tas'][0][0][0] # air temperature\n",
    "plev = zarrData['plev'][0] # air pressure\n",
    "pr = zarrData['pr'][0][0][0] # precipitation flux\n",
    "ua = zarrData['ua'][0][0][0][0] # eastward wind with 17 levels of plev\n",
    "lon = zarrData['lon'][0]\n",
    "lat = zarrData['lat'][0]\n",
    "'''\n",
    "\n",
    "zarrXr_16C_full_vars = '''  \n",
    "zarrData = xr.open_zarr('Data/ccsm3_store_16C.zarr')\n",
    "\n",
    "# reading full variables\n",
    "tas = zarrData['tas'][:] # air temperature\n",
    "plev = zarrData['plev'][:] # air pressure\n",
    "pr = zarrData['pr'][:] # precipitation flux\n",
    "ua = zarrData['ua'][:] # eastward wind with 17 levels of plev\n",
    "lon = zarrData['lon'][:]\n",
    "lat = zarrData['lat'][:]\n",
    "'''\n",
    "  \n",
    "# timeit statement in seconds average of 1000\n",
    "zarrXr_16C_single_values_time = (timeit.timeit(setup = imports,\n",
    "                     stmt = zarrXr_16C_single_values,\n",
    "                     number = 100)) / 100\n",
    "\n",
    "zarrXr_16C_full_vars_time = (timeit.timeit(setup = imports,\n",
    "                     stmt = zarrXr_16C_full_vars,\n",
    "                     number = 100)) / 100\n",
    "print(zarrXr_16C_single_values_time)\n",
    "print(zarrXr_16C_full_vars_time)"
   ]
  },
  {
   "cell_type": "markdown",
   "id": "0a5fad72",
   "metadata": {},
   "source": [
    "### Chunksize 64x64"
   ]
  },
  {
   "cell_type": "code",
   "execution_count": 20,
   "id": "6ad5217c",
   "metadata": {},
   "outputs": [
    {
     "name": "stdout",
     "output_type": "stream",
     "text": [
      "0.013783389330000092\n",
      "0.009987875619999613\n"
     ]
    }
   ],
   "source": [
    "import timeit \n",
    "  \n",
    "# import before timing begins \n",
    "imports = '''\n",
    "import xarray as xr\n",
    "import zarr\n",
    "'''\n",
    "  \n",
    "# reading code to be timed\n",
    "zarrXr_64C_single_values = ''' \n",
    "zarrData = xr.open_zarr('Data/ccsm3_store_64C.zarr')\n",
    "\n",
    "# reading single values \n",
    "tas = zarrData['tas'][0][0][0] # air temperature\n",
    "plev = zarrData['plev'][0] # air pressure\n",
    "pr = zarrData['pr'][0][0][0] # precipitation flux\n",
    "ua = zarrData['ua'][0][0][0][0] # eastward wind with 17 levels of plev\n",
    "lon = zarrData['lon'][0]\n",
    "lat = zarrData['lat'][0]\n",
    "'''\n",
    "\n",
    "zarrXr_64C_full_vars = '''  \n",
    "zarrData = xr.open_zarr('Data/ccsm3_store_64C.zarr')\n",
    "\n",
    "# reading full variables\n",
    "tas = zarrData['tas'][:] # air temperature\n",
    "plev = zarrData['plev'][:] # air pressure\n",
    "pr = zarrData['pr'][:] # precipitation flux\n",
    "ua = zarrData['ua'][:] # eastward wind with 17 levels of plev\n",
    "lon = zarrData['lon'][:]\n",
    "lat = zarrData['lat'][:]\n",
    "'''\n",
    "  \n",
    "# timeit statement in seconds average of 1000\n",
    "zarrXr_64C_single_values_time = (timeit.timeit(setup = imports,\n",
    "                     stmt = zarrXr_64C_single_values,\n",
    "                     number = 100)) / 100\n",
    "\n",
    "zarrXr_64C_full_vars_time = (timeit.timeit(setup = imports,\n",
    "                     stmt = zarrXr_64C_full_vars,\n",
    "                     number = 100)) / 100\n",
    "print(zarrXr_64C_single_values_time)\n",
    "print(zarrXr_64C_full_vars_time)"
   ]
  },
  {
   "cell_type": "markdown",
   "id": "7beea984",
   "metadata": {},
   "source": [
    "## Plotting"
   ]
  },
  {
   "cell_type": "code",
   "execution_count": 23,
   "id": "03e9bb75",
   "metadata": {},
   "outputs": [
    {
     "data": {
      "image/png": "[encoded data removed]",
      "text/plain": [
       "<Figure size 720x504 with 1 Axes>"
      ]
     },
     "metadata": {
      "needs_background": "light"
     },
     "output_type": "display_data"
    }
   ],
   "source": [
    "import matplotlib.pyplot as plt\n",
    "import matplotlib.patches as mpatches\n",
    "import numpy as np\n",
    "\n",
    "netcdf_110 = [nc4_110_single_values_time *1000, nc4_110_64C_single_values_time*1000, nc4_110_16C_single_values_time*1000, nc4_110_4C_single_values_time*1000]\n",
    "lables = ('Chunk size 128x256','Chunk size 64x64', 'Chunk size 16x16', 'Chunk size 4x4')\n",
    "\n",
    "zarr = [zarr_single_values_time *1000,  zarr_64C_single_values_time*1000, zarr_16C_single_values_time*1000, zarr_4C_single_values_time*1000]\n",
    "zarrlables = ('Chunk size 128x256','Chunk size 64x64', 'Chunk size 16x16', 'Chunk size 4x4')\n",
    "\n",
    "zarrXr = [zarrXr_single_values_time *1000,  zarrXr_64C_single_values_time*1000, zarrXr_16C_single_values_time*1000, zarrXr_4C_single_values_time*1000]\n",
    "zarrXrlables = ('Chunk size 128x256','Chunk size 64x64', 'Chunk size 16x16', 'Chunk size 4x4')\n",
    "\n",
    "ncXr = [nc4_Xr_110_single_values_time *1000,  nc4_Xr_110_single_values_time*1000, nc4_Xr_110_single_values_time*1000, nc4_Xr_110_single_values_time*1000]\n",
    "ncXrlables = ('Chunk size 128x256','Chunk size 64x64', 'Chunk size 16x16', 'Chunk size 4x4')\n",
    "\n",
    "# Plotting Options\n",
    "fig = plt.figure()\n",
    "fig.set_figheight(7)\n",
    "fig.set_figwidth(10)\n",
    "\n",
    "plt.scatter(zarrlables, zarr, color = '#83C2CA', linewidth = 5)\n",
    "plt.plot(zarr, color = '#83C2CA', linewidth = 5)\n",
    "\n",
    "plt.scatter(lables, netcdf_110, color = '#F5E682', linewidth = 5)\n",
    "plt.plot(netcdf_110, color = '#F5E682', linewidth = 5)\n",
    "\n",
    "plt.scatter(zarrXrlables, zarrXr, color = '#81A8F1', linewidth = 5)\n",
    "plt.plot(zarrXr, color = '#81A8F1', linewidth = 5)\n",
    "\n",
    "plt.scatter(ncXrlables, ncXr, color = '#86D69A', linewidth = 5)\n",
    "plt.plot(ncXr, color = '#86D69A', linewidth = 5)\n",
    "\n",
    "plt.ylabel('Time (ms)')\n",
    "plt.title('Single Value Read Times with Varying Chunk Sizes Across Lat/Lon')\n",
    "\n",
    "netcdflabel = mpatches.Patch(color='#F5E682', label='netCDF4-python')\n",
    "zarrlabel = mpatches.Patch(color='#83C2CA', label='Zarr')\n",
    "zarrXrlabel = mpatches.Patch(color='#81A8F1', label='Zarr with Xarray')\n",
    "ncXrlabel = mpatches.Patch(color='#86D69A', label='netCDF4 with Xarray')\n",
    "\n",
    "plt.legend(handles=[netcdflabel, zarrlabel, zarrXrlabel, ncXrlabel])\n",
    "\n",
    "\n",
    "plt.yscale('log')\n",
    "plt.rcParams.update({'font.size': 16})\n",
    "plt.tight_layout()\n",
    "\n",
    "plt.savefig('Plots/Chunking_netcdf_zarr_single_val.jpg')"
   ]
  },
  {
   "cell_type": "code",
   "execution_count": 57,
   "id": "e137bed0",
   "metadata": {},
   "outputs": [
    {
     "data": {
      "image/png": "[encoded data removed]",
      "text/plain": [
       "<Figure size 720x504 with 1 Axes>"
      ]
     },
     "metadata": {
      "needs_background": "light"
     },
     "output_type": "display_data"
    }
   ],
   "source": [
    "import matplotlib.pyplot as plt\n",
    "import matplotlib.patches as mpatches\n",
    "import numpy as np\n",
    "\n",
    "netcdf_110 = [nc4_110_full_vars_time *1000, nc4_110_64C_full_vars_time*1000, nc4_110_16C_full_vars_time*1000, nc4_110_4C_full_vars_time*1000]\n",
    "lables = ('Chunk size 128x256','Chunk size 64x64', 'Chunk size 16x16', 'Chunk size 4x4')\n",
    "\n",
    "zarr = [zarr_full_vars_time *1000,  zarr_64C_full_vars_time*1000, zarr_16C_full_vars_time*1000, zarr_4C_full_vars_time*1000]\n",
    "zarrlables = ('Chunk size 128x256','Chunk size 64x64', 'Chunk size 16x16', 'Chunk size 4x4')\n",
    "\n",
    "zarrXr = [zarrXr_full_vars_time *1000,  zarrXr_64C_full_vars_time*1000, zarrXr_16C_full_vars_time*1000, zarrXr_4C_full_vars_time*1000]\n",
    "zarrXrlables = ('Chunk size 128x256','Chunk size 64x64', 'Chunk size 16x16', 'Chunk size 4x4')\n",
    "\n",
    "ncXr = [nc4_Xr_110_full_vars_time *1000,  nc4_Xr_110_full_vars_time*1000, nc4_Xr_110_full_vars_time*1000, nc4_Xr_110_full_vars_time*1000]\n",
    "ncXrlables = ('Chunk size 128x256','Chunk size 64x64', 'Chunk size 16x16', 'Chunk size 4x4')\n",
    "\n",
    "# Plotting Options\n",
    "fig = plt.figure()\n",
    "fig.set_figheight(7)\n",
    "fig.set_figwidth(10)\n",
    "\n",
    "plt.scatter(zarrlables, zarr, color = '#83C2CA', linewidth = 5)\n",
    "plt.plot(zarr, color = '#83C2CA', linewidth = 5)\n",
    "\n",
    "plt.scatter(lables, netcdf_110, color = '#F5E682', linewidth = 5)\n",
    "plt.plot(netcdf_110, color = '#F5E682', linewidth = 5)\n",
    "\n",
    "plt.scatter(zarrXrlables, zarrXr, color = '#81A8F1', linewidth = 5)\n",
    "plt.plot(zarrXr, color = '#81A8F1', linewidth = 5)\n",
    "\n",
    "plt.scatter(ncXrlables, ncXr, color = '#86D69A', linewidth = 5)\n",
    "plt.plot(ncXr, color = '#86D69A', linewidth = 5)\n",
    "\n",
    "plt.ylabel('Time (ms)')\n",
    "plt.title('Full Variable Read Times with Varying Chunk Sizes Across Lat/Lon')\n",
    "\n",
    "netcdflabel = mpatches.Patch(color='#F5E682', label='netCDF4-python')\n",
    "zarrlabel = mpatches.Patch(color='#83C2CA', label='Zarr')\n",
    "zarrXrlabel = mpatches.Patch(color='#81A8F1', label='Zarr with Xarray')\n",
    "ncXrlabel = mpatches.Patch(color='#86D69A', label='netCDF with Xarray')\n",
    "\n",
    "\n",
    "plt.legend(handles=[netcdflabel, ncXrlabel, zarrlabel, zarrXrlabel])\n",
    "\n",
    "plt.yscale('log')\n",
    "plt.rcParams.update({'font.size': 16})\n",
    "plt.tight_layout()\n",
    "\n",
    "plt.savefig('Plots/Chunking_netcdf_zarr_full_var.jpg')"
   ]
  },
  {
   "cell_type": "code",
   "execution_count": null,
   "id": "97d53262",
   "metadata": {},
   "outputs": [],
   "source": []
  }
 ],
 "metadata": {
  "kernelspec": {
   "display_name": "Python 3",
   "language": "python",
   "name": "python3"
  },
  "language_info": {
   "codemirror_mode": {
    "name": "ipython",
    "version": 3
   },
   "file_extension": ".py",
   "mimetype": "text/x-python",
   "name": "python",
   "nbconvert_exporter": "python",
   "pygments_lexer": "ipython3",
   "version": "3.8.3"
  }
 },
 "nbformat": 4,
 "nbformat_minor": 5
}
